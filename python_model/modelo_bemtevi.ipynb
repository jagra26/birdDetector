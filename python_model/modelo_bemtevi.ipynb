{
  "cells": [
    {
      "cell_type": "markdown",
      "source": [
        "## Imports"
      ],
      "metadata": {
        "id": "Uv8heFrJsIwr"
      }
    },
    {
      "cell_type": "code",
      "execution_count": null,
      "metadata": {
        "id": "bKBrbDbVO5PP"
      },
      "outputs": [],
      "source": [
        "import pandas as pd\n",
        "import tensorflow as tf\n",
        "import numpy as np\n",
        "import matplotlib.pyplot as plt\n",
        "import os\n",
        "from sklearn.model_selection import train_test_split\n",
        "from tensorflow.keras import models, layers\n",
        "from tensorflow.keras.utils import to_categorical\n",
        "from keras.callbacks import EarlyStopping, ModelCheckpoint\n",
        "from tensorflow.keras.optimizers import RMSprop\n",
        "from keras.models import Sequential\n",
        "from keras.layers import Conv2D, MaxPooling2D\n",
        "from keras.layers import Flatten, Dense, Dropout\n",
        "import keras.utils as image\n",
        "from PIL import Image"
      ]
    },
    {
      "cell_type": "code",
      "execution_count": null,
      "metadata": {
        "id": "7XmNk3ZbR0Y2"
      },
      "outputs": [],
      "source": [
        "tf.config.run_functions_eagerly(True)"
      ]
    },
    {
      "cell_type": "code",
      "execution_count": null,
      "metadata": {
        "id": "tfFW3rHGAlp4"
      },
      "outputs": [],
      "source": [
        "!pip install --upgrade --no-cache-dir --quiet gdown"
      ]
    },
    {
      "cell_type": "markdown",
      "source": [
        "## Download e preparação do dataset"
      ],
      "metadata": {
        "id": "v77ZQ-mqsMBg"
      }
    },
    {
      "cell_type": "code",
      "execution_count": null,
      "metadata": {
        "colab": {
          "base_uri": "https://localhost:8080/"
        },
        "id": "W3L_3O7qBqi4",
        "outputId": "23db9e1c-dc67-4619-a944-50df0bb5ee14"
      },
      "outputs": [
        {
          "output_type": "stream",
          "name": "stdout",
          "text": [
            "Downloading...\n",
            "From (uriginal): https://drive.google.com/uc?id=15d98V1hjFOKv9jXOUPA8zcL3fyJO19D_\n",
            "From (redirected): https://drive.google.com/uc?id=15d98V1hjFOKv9jXOUPA8zcL3fyJO19D_&confirm=t&uuid=282b2a4c-de82-4236-9706-5f61bfdd648d\n",
            "To: /content/data.zip\n",
            "100% 1.27G/1.27G [00:22<00:00, 57.3MB/s]\n"
          ]
        }
      ],
      "source": [
        "!gdown \"15d98V1hjFOKv9jXOUPA8zcL3fyJO19D_\""
      ]
    },
    {
      "cell_type": "code",
      "execution_count": null,
      "metadata": {
        "id": "sVVo0t0QByhO"
      },
      "outputs": [],
      "source": [
        "!rm -rf data\n",
        "!unzip -qq data.zip"
      ]
    },
    {
      "cell_type": "code",
      "execution_count": null,
      "metadata": {
        "id": "g4YwVpXYt5_k"
      },
      "outputs": [],
      "source": [
        "!mv data/2/*.png data/1\n",
        "!mv data/3/*.png data/1\n",
        "\n",
        "!rm -rf data/2 data/3"
      ]
    },
    {
      "cell_type": "code",
      "execution_count": null,
      "metadata": {
        "id": "k7xRDV_90I6-"
      },
      "outputs": [],
      "source": [
        "!find data/1 -type f -print0 | sort -zR | tail -zn +1001 | xargs -0 rm"
      ]
    },
    {
      "cell_type": "code",
      "execution_count": null,
      "metadata": {
        "colab": {
          "base_uri": "https://localhost:8080/"
        },
        "id": "HaTeESaW0pIs",
        "outputId": "110c0ee7-eb7d-4aa6-8b8f-41996908da60"
      },
      "outputs": [
        {
          "output_type": "stream",
          "name": "stdout",
          "text": [
            "1000\n"
          ]
        }
      ],
      "source": [
        "!ls data/1 | wc -l"
      ]
    },
    {
      "cell_type": "code",
      "execution_count": null,
      "metadata": {
        "id": "aRBWeNVGQDTR"
      },
      "outputs": [],
      "source": [
        "files = []\n",
        "folder = 'data'\n",
        "\n",
        "for folder in os.listdir(folder):\n",
        "    if folder != \".DS_Store\":\n",
        "        for file in os.listdir(f\"data/{folder}\"):\n",
        "            files.append({\"path\": f\"{folder}/{file}\", \"class\": folder})\n",
        "\n",
        "data = pd.DataFrame(files)"
      ]
    },
    {
      "cell_type": "code",
      "execution_count": null,
      "metadata": {
        "colab": {
          "base_uri": "https://localhost:8080/",
          "height": 206
        },
        "id": "260o3hUh7uH-",
        "outputId": "214b6a3e-9a69-4329-99a1-1d8798a5664a"
      },
      "outputs": [
        {
          "output_type": "execute_result",
          "data": {
            "text/plain": [
              "                                             path class  \\\n",
              "0  1/1966101_b6defddee2673fc598d60aebcb2abce0.png     1   \n",
              "1  1/4294730_3e80523cc3d2180a3599678dc0a1b63d.png     1   \n",
              "2   1/653998_581d4d4ef9272006f799f809a5e2bf5d.png     1   \n",
              "3  1/3748448_2a6c90285d8b30f9a1c4ecee17d14716.png     1   \n",
              "4  1/1199548_5e57f1f46acf77d64e76f2f44c31bb96.png     1   \n",
              "\n",
              "                                               image  \n",
              "0  [[[[255.]], [[255.]], [[255.]], [[255.]], [[25...  \n",
              "1  [[[[255.]], [[255.]], [[255.]], [[255.]], [[25...  \n",
              "2  [[[[255.]], [[255.]], [[255.]], [[255.]], [[25...  \n",
              "3  [[[[255.]], [[255.]], [[255.]], [[255.]], [[25...  \n",
              "4  [[[[255.]], [[255.]], [[255.]], [[255.]], [[25...  "
            ],
            "text/html": [
              "\n",
              "  <div id=\"df-a7169faf-7257-42bc-a5ad-270a02fbb886\">\n",
              "    <div class=\"colab-df-container\">\n",
              "      <div>\n",
              "<style scoped>\n",
              "    .dataframe tbody tr th:only-of-type {\n",
              "        vertical-align: middle;\n",
              "    }\n",
              "\n",
              "    .dataframe tbody tr th {\n",
              "        vertical-align: top;\n",
              "    }\n",
              "\n",
              "    .dataframe thead th {\n",
              "        text-align: right;\n",
              "    }\n",
              "</style>\n",
              "<table border=\"1\" class=\"dataframe\">\n",
              "  <thead>\n",
              "    <tr style=\"text-align: right;\">\n",
              "      <th></th>\n",
              "      <th>path</th>\n",
              "      <th>class</th>\n",
              "      <th>image</th>\n",
              "    </tr>\n",
              "  </thead>\n",
              "  <tbody>\n",
              "    <tr>\n",
              "      <th>0</th>\n",
              "      <td>1/1966101_b6defddee2673fc598d60aebcb2abce0.png</td>\n",
              "      <td>1</td>\n",
              "      <td>[[[[255.]], [[255.]], [[255.]], [[255.]], [[25...</td>\n",
              "    </tr>\n",
              "    <tr>\n",
              "      <th>1</th>\n",
              "      <td>1/4294730_3e80523cc3d2180a3599678dc0a1b63d.png</td>\n",
              "      <td>1</td>\n",
              "      <td>[[[[255.]], [[255.]], [[255.]], [[255.]], [[25...</td>\n",
              "    </tr>\n",
              "    <tr>\n",
              "      <th>2</th>\n",
              "      <td>1/653998_581d4d4ef9272006f799f809a5e2bf5d.png</td>\n",
              "      <td>1</td>\n",
              "      <td>[[[[255.]], [[255.]], [[255.]], [[255.]], [[25...</td>\n",
              "    </tr>\n",
              "    <tr>\n",
              "      <th>3</th>\n",
              "      <td>1/3748448_2a6c90285d8b30f9a1c4ecee17d14716.png</td>\n",
              "      <td>1</td>\n",
              "      <td>[[[[255.]], [[255.]], [[255.]], [[255.]], [[25...</td>\n",
              "    </tr>\n",
              "    <tr>\n",
              "      <th>4</th>\n",
              "      <td>1/1199548_5e57f1f46acf77d64e76f2f44c31bb96.png</td>\n",
              "      <td>1</td>\n",
              "      <td>[[[[255.]], [[255.]], [[255.]], [[255.]], [[25...</td>\n",
              "    </tr>\n",
              "  </tbody>\n",
              "</table>\n",
              "</div>\n",
              "      <button class=\"colab-df-convert\" onclick=\"convertToInteractive('df-a7169faf-7257-42bc-a5ad-270a02fbb886')\"\n",
              "              title=\"Convert this dataframe to an interactive table.\"\n",
              "              style=\"display:none;\">\n",
              "        \n",
              "  <svg xmlns=\"http://www.w3.org/2000/svg\" height=\"24px\"viewBox=\"0 0 24 24\"\n",
              "       width=\"24px\">\n",
              "    <path d=\"M0 0h24v24H0V0z\" fill=\"none\"/>\n",
              "    <path d=\"M18.56 5.44l.94 2.06.94-2.06 2.06-.94-2.06-.94-.94-2.06-.94 2.06-2.06.94zm-11 1L8.5 8.5l.94-2.06 2.06-.94-2.06-.94L8.5 2.5l-.94 2.06-2.06.94zm10 10l.94 2.06.94-2.06 2.06-.94-2.06-.94-.94-2.06-.94 2.06-2.06.94z\"/><path d=\"M17.41 7.96l-1.37-1.37c-.4-.4-.92-.59-1.43-.59-.52 0-1.04.2-1.43.59L10.3 9.45l-7.72 7.72c-.78.78-.78 2.05 0 2.83L4 21.41c.39.39.9.59 1.41.59.51 0 1.02-.2 1.41-.59l7.78-7.78 2.81-2.81c.8-.78.8-2.07 0-2.86zM5.41 20L4 18.59l7.72-7.72 1.47 1.35L5.41 20z\"/>\n",
              "  </svg>\n",
              "      </button>\n",
              "      \n",
              "  <style>\n",
              "    .colab-df-container {\n",
              "      display:flex;\n",
              "      flex-wrap:wrap;\n",
              "      gap: 12px;\n",
              "    }\n",
              "\n",
              "    .colab-df-convert {\n",
              "      background-color: #E8F0FE;\n",
              "      border: none;\n",
              "      border-radius: 50%;\n",
              "      cursor: pointer;\n",
              "      display: none;\n",
              "      fill: #1967D2;\n",
              "      height: 32px;\n",
              "      padding: 0 0 0 0;\n",
              "      width: 32px;\n",
              "    }\n",
              "\n",
              "    .colab-df-convert:hover {\n",
              "      background-color: #E2EBFA;\n",
              "      box-shadow: 0px 1px 2px rgba(60, 64, 67, 0.3), 0px 1px 3px 1px rgba(60, 64, 67, 0.15);\n",
              "      fill: #174EA6;\n",
              "    }\n",
              "\n",
              "    [theme=dark] .colab-df-convert {\n",
              "      background-color: #3B4455;\n",
              "      fill: #D2E3FC;\n",
              "    }\n",
              "\n",
              "    [theme=dark] .colab-df-convert:hover {\n",
              "      background-color: #434B5C;\n",
              "      box-shadow: 0px 1px 3px 1px rgba(0, 0, 0, 0.15);\n",
              "      filter: drop-shadow(0px 1px 2px rgba(0, 0, 0, 0.3));\n",
              "      fill: #FFFFFF;\n",
              "    }\n",
              "  </style>\n",
              "\n",
              "      <script>\n",
              "        const buttonEl =\n",
              "          document.querySelector('#df-a7169faf-7257-42bc-a5ad-270a02fbb886 button.colab-df-convert');\n",
              "        buttonEl.style.display =\n",
              "          google.colab.kernel.accessAllowed ? 'block' : 'none';\n",
              "\n",
              "        async function convertToInteractive(key) {\n",
              "          const element = document.querySelector('#df-a7169faf-7257-42bc-a5ad-270a02fbb886');\n",
              "          const dataTable =\n",
              "            await google.colab.kernel.invokeFunction('convertToInteractive',\n",
              "                                                     [key], {});\n",
              "          if (!dataTable) return;\n",
              "\n",
              "          const docLinkHtml = 'Like what you see? Visit the ' +\n",
              "            '<a target=\"_blank\" href=https://colab.research.google.com/notebooks/data_table.ipynb>data table notebook</a>'\n",
              "            + ' to learn more about interactive tables.';\n",
              "          element.innerHTML = '';\n",
              "          dataTable['output_type'] = 'display_data';\n",
              "          await google.colab.output.renderOutput(dataTable, element);\n",
              "          const docLink = document.createElement('div');\n",
              "          docLink.innerHTML = docLinkHtml;\n",
              "          element.appendChild(docLink);\n",
              "        }\n",
              "      </script>\n",
              "    </div>\n",
              "  </div>\n",
              "  "
            ]
          },
          "metadata": {},
          "execution_count": 10
        }
      ],
      "source": [
        "data[\"image\"] = data[\"path\"].apply(lambda x: np.expand_dims(image.img_to_array(image.load_img(f\"data/{x}\").convert(\"L\").resize((112, 112))), axis=-1))\n",
        "\n",
        "data.head()"
      ]
    },
    {
      "cell_type": "code",
      "source": [
        "# data.to_csv('data.csv')"
      ],
      "metadata": {
        "id": "5MJHyQQytuld"
      },
      "execution_count": null,
      "outputs": []
    },
    {
      "cell_type": "markdown",
      "source": [
        "## Divisão em treino, teste e validação"
      ],
      "metadata": {
        "id": "EhkG4vyCsRJs"
      }
    },
    {
      "cell_type": "markdown",
      "metadata": {
        "id": "FBSQkD7TsN93"
      },
      "source": [
        "0 = bem-te-vi\n",
        "1 = gaviao-carijo\n",
        "2 = corujinha-do-mato\n",
        "3 = sabia-laranjeira "
      ]
    },
    {
      "cell_type": "code",
      "execution_count": null,
      "metadata": {
        "id": "_u8m823n8HRh"
      },
      "outputs": [],
      "source": [
        "X = np.array(data[\"image\"].tolist())\n",
        "y = np.array(data[\"class\"].tolist()).astype('float32')\n",
        "\n",
        "X = np.stack(X, axis=0)\n",
        "X /= 255.0\n",
        "\n",
        "X_train, X_test, y_train, y_test = train_test_split(X, y, test_size=0.2, random_state=1)\n",
        "X_train, X_val, y_train, y_val = train_test_split(X_train, y_train, test_size=0.25, random_state=1)"
      ]
    },
    {
      "cell_type": "markdown",
      "source": [
        "## Modelo"
      ],
      "metadata": {
        "id": "eYvrmG3RsXoy"
      }
    },
    {
      "cell_type": "code",
      "execution_count": null,
      "metadata": {
        "colab": {
          "base_uri": "https://localhost:8080/"
        },
        "id": "jHHZ-mqZ8IU0",
        "outputId": "9f57440f-4934-4bea-aadd-ba11e629e18b"
      },
      "outputs": [
        {
          "output_type": "stream",
          "name": "stdout",
          "text": [
            "Model: \"sequential\"\n",
            "_________________________________________________________________\n",
            " Layer (type)                Output Shape              Param #   \n",
            "=================================================================\n",
            " conv2d (Conv2D)             (None, 110, 110, 16)      160       \n",
            "                                                                 \n",
            " max_pooling2d (MaxPooling2D  (None, 55, 55, 16)       0         \n",
            " )                                                               \n",
            "                                                                 \n",
            " dropout (Dropout)           (None, 55, 55, 16)        0         \n",
            "                                                                 \n",
            " conv2d_1 (Conv2D)           (None, 53, 53, 32)        4640      \n",
            "                                                                 \n",
            " max_pooling2d_1 (MaxPooling  (None, 26, 26, 32)       0         \n",
            " 2D)                                                             \n",
            "                                                                 \n",
            " conv2d_2 (Conv2D)           (None, 24, 24, 128)       36992     \n",
            "                                                                 \n",
            " max_pooling2d_2 (MaxPooling  (None, 12, 12, 128)      0         \n",
            " 2D)                                                             \n",
            "                                                                 \n",
            " flatten (Flatten)           (None, 18432)             0         \n",
            "                                                                 \n",
            " dropout_1 (Dropout)         (None, 18432)             0         \n",
            "                                                                 \n",
            " dense (Dense)               (None, 1)                 18433     \n",
            "                                                                 \n",
            "=================================================================\n",
            "Total params: 60,225\n",
            "Trainable params: 60,225\n",
            "Non-trainable params: 0\n",
            "_________________________________________________________________\n"
          ]
        }
      ],
      "source": [
        "input_shape = (112, 112, 1)\n",
        "\n",
        "# model 3 - Test Loss: 0.339, Test Accuracy: 82.50%\n",
        "#############################################\n",
        "# model = Sequential()\n",
        "# model.add(layers.Conv2D(32, (3, 3), activation='relu', input_shape=input_shape))\n",
        "# model.add(layers.MaxPooling2D((2, 2)))\n",
        "# model.add(Dropout(0.5))\n",
        "\n",
        "# model.add(layers.Conv2D(64, (3, 3), activation='relu'))\n",
        "# model.add(layers.MaxPooling2D((2, 2)))\n",
        "# model.add(Dropout(0.25))\n",
        "\n",
        "# model.add(layers.Conv2D(128, (3, 3), activation='relu'))\n",
        "# model.add(layers.MaxPooling2D((2, 2)))\n",
        "# model.add(Dropout(0.5))\n",
        "\n",
        "# model.add(layers.Conv2D(128, (3, 3), activation='relu'))\n",
        "# model.add(layers.MaxPooling2D((2, 2)))\n",
        "# model.add(Dropout(0.25))\n",
        "\n",
        "# model.add(layers.Flatten())\n",
        "# model.add(Dropout(0.5))\n",
        "\n",
        "# model.add(layers.Dense(2, activation='softmax'))\n",
        "###########################################\n",
        "\n",
        "\n",
        "# model 4 - Test Loss: 0.287, Test Accuracy: 87%\n",
        "####################################\n",
        "model = Sequential()\n",
        "model.add(Conv2D(16, (3, 3), activation='relu', input_shape=input_shape))\n",
        "model.add(MaxPooling2D((2, 2)))\n",
        "model.add(Dropout(0.5))\n",
        "model.add(Conv2D(32, (3, 3), activation='relu'))\n",
        "model.add(MaxPooling2D((2, 2)))\n",
        "model.add(Conv2D(128, (3, 3), activation='relu'))\n",
        "model.add(MaxPooling2D((2, 2)))\n",
        "\n",
        "model.add(Flatten())\n",
        "# model.add(Dense(2, activation='softmax'))\n",
        "\n",
        "model.add(Dropout(0.5))\n",
        "model.add(Dense(1, activation='sigmoid'))\n",
        "#################################\n",
        "\n",
        "adam = tf.keras.optimizers.Adam(learning_rate=0.0015)\n",
        "\n",
        "model.compile(optimizer=adam, loss=\"binary_crossentropy\", metrics=[\"accuracy\"])\n",
        "\n",
        "model.summary()"
      ]
    },
    {
      "cell_type": "code",
      "execution_count": null,
      "metadata": {
        "id": "A6RbmEOL8T6u",
        "colab": {
          "base_uri": "https://localhost:8080/"
        },
        "outputId": "589e7c19-d160-459b-ee21-58d78e16bcb9"
      },
      "outputs": [
        {
          "output_type": "stream",
          "name": "stdout",
          "text": [
            "Epoch 1/150\n"
          ]
        },
        {
          "output_type": "stream",
          "name": "stderr",
          "text": [
            "/usr/local/lib/python3.10/dist-packages/tensorflow/python/data/ops/structured_function.py:254: UserWarning: Even though the `tf.config.experimental_run_functions_eagerly` option is set, this option does not apply to tf.data functions. To force eager execution of tf.data functions, please use `tf.data.experimental.enable_debug_mode()`.\n",
            "  warnings.warn(\n"
          ]
        },
        {
          "output_type": "stream",
          "name": "stdout",
          "text": [
            "14/14 [==============================] - 9s 101ms/step - loss: 0.7214 - accuracy: 0.5103 - val_loss: 0.6895 - val_accuracy: 0.5376\n",
            "Epoch 2/150\n",
            "14/14 [==============================] - 1s 59ms/step - loss: 0.6883 - accuracy: 0.5558 - val_loss: 0.6910 - val_accuracy: 0.5376\n",
            "Epoch 3/150\n",
            "14/14 [==============================] - 1s 71ms/step - loss: 0.6859 - accuracy: 0.5497 - val_loss: 0.6909 - val_accuracy: 0.5376\n",
            "Epoch 4/150\n",
            "14/14 [==============================] - 1s 77ms/step - loss: 0.6841 - accuracy: 0.5680 - val_loss: 0.6878 - val_accuracy: 0.5376\n",
            "Epoch 5/150\n",
            "14/14 [==============================] - 1s 71ms/step - loss: 0.6641 - accuracy: 0.5824 - val_loss: 0.6861 - val_accuracy: 0.4875\n",
            "Epoch 6/150\n",
            "14/14 [==============================] - 1s 63ms/step - loss: 0.6664 - accuracy: 0.5786 - val_loss: 0.6674 - val_accuracy: 0.7198\n",
            "Epoch 7/150\n",
            "14/14 [==============================] - 1s 62ms/step - loss: 0.5993 - accuracy: 0.6970 - val_loss: 0.5953 - val_accuracy: 0.6970\n",
            "Epoch 8/150\n",
            "14/14 [==============================] - 1s 57ms/step - loss: 0.5331 - accuracy: 0.7380 - val_loss: 0.5226 - val_accuracy: 0.7585\n",
            "Epoch 9/150\n",
            "14/14 [==============================] - 1s 62ms/step - loss: 0.4893 - accuracy: 0.7661 - val_loss: 0.4769 - val_accuracy: 0.7927\n",
            "Epoch 10/150\n",
            "14/14 [==============================] - 1s 61ms/step - loss: 0.4645 - accuracy: 0.7844 - val_loss: 0.4676 - val_accuracy: 0.8018\n",
            "Epoch 11/150\n",
            "14/14 [==============================] - 1s 61ms/step - loss: 0.4584 - accuracy: 0.7866 - val_loss: 0.4766 - val_accuracy: 0.7859\n",
            "Epoch 12/150\n",
            "14/14 [==============================] - 1s 66ms/step - loss: 0.4591 - accuracy: 0.7737 - val_loss: 0.4373 - val_accuracy: 0.8132\n",
            "Epoch 13/150\n",
            "14/14 [==============================] - 1s 63ms/step - loss: 0.4347 - accuracy: 0.8026 - val_loss: 0.4311 - val_accuracy: 0.8178\n",
            "Epoch 14/150\n",
            "14/14 [==============================] - 1s 66ms/step - loss: 0.4206 - accuracy: 0.8079 - val_loss: 0.4275 - val_accuracy: 0.8155\n",
            "Epoch 15/150\n",
            "14/14 [==============================] - 1s 61ms/step - loss: 0.4226 - accuracy: 0.8011 - val_loss: 0.4215 - val_accuracy: 0.8178\n",
            "Epoch 16/150\n",
            "14/14 [==============================] - 1s 64ms/step - loss: 0.4213 - accuracy: 0.8102 - val_loss: 0.4358 - val_accuracy: 0.8223\n",
            "Epoch 17/150\n",
            "14/14 [==============================] - 1s 78ms/step - loss: 0.4137 - accuracy: 0.8056 - val_loss: 0.4121 - val_accuracy: 0.8200\n",
            "Epoch 18/150\n",
            "14/14 [==============================] - 1s 75ms/step - loss: 0.4165 - accuracy: 0.8155 - val_loss: 0.3937 - val_accuracy: 0.8314\n",
            "Epoch 19/150\n",
            "14/14 [==============================] - 1s 73ms/step - loss: 0.4076 - accuracy: 0.8155 - val_loss: 0.4203 - val_accuracy: 0.8018\n",
            "Epoch 20/150\n",
            "14/14 [==============================] - 1s 61ms/step - loss: 0.3946 - accuracy: 0.8276 - val_loss: 0.3854 - val_accuracy: 0.8223\n",
            "Epoch 21/150\n",
            "14/14 [==============================] - 1s 63ms/step - loss: 0.3953 - accuracy: 0.8185 - val_loss: 0.4143 - val_accuracy: 0.8223\n",
            "Epoch 22/150\n",
            "14/14 [==============================] - 1s 57ms/step - loss: 0.3929 - accuracy: 0.8261 - val_loss: 0.3796 - val_accuracy: 0.8314\n",
            "Epoch 23/150\n",
            "14/14 [==============================] - 1s 64ms/step - loss: 0.3918 - accuracy: 0.8299 - val_loss: 0.3792 - val_accuracy: 0.8383\n",
            "Epoch 24/150\n",
            "14/14 [==============================] - 1s 65ms/step - loss: 0.3689 - accuracy: 0.8314 - val_loss: 0.3799 - val_accuracy: 0.8360\n",
            "Epoch 25/150\n",
            "14/14 [==============================] - 1s 60ms/step - loss: 0.3651 - accuracy: 0.8428 - val_loss: 0.3737 - val_accuracy: 0.8383\n",
            "Epoch 26/150\n",
            "14/14 [==============================] - 1s 66ms/step - loss: 0.3551 - accuracy: 0.8375 - val_loss: 0.3669 - val_accuracy: 0.8474\n",
            "Epoch 27/150\n",
            "14/14 [==============================] - 1s 62ms/step - loss: 0.3635 - accuracy: 0.8337 - val_loss: 0.3590 - val_accuracy: 0.8497\n",
            "Epoch 28/150\n",
            "14/14 [==============================] - 1s 61ms/step - loss: 0.3611 - accuracy: 0.8299 - val_loss: 0.4741 - val_accuracy: 0.8109\n",
            "Epoch 29/150\n",
            "14/14 [==============================] - 1s 65ms/step - loss: 0.3650 - accuracy: 0.8307 - val_loss: 0.3981 - val_accuracy: 0.8360\n",
            "Epoch 30/150\n",
            "14/14 [==============================] - 1s 71ms/step - loss: 0.3436 - accuracy: 0.8512 - val_loss: 0.3724 - val_accuracy: 0.8428\n",
            "Epoch 31/150\n",
            "14/14 [==============================] - 1s 80ms/step - loss: 0.3467 - accuracy: 0.8390 - val_loss: 0.3473 - val_accuracy: 0.8565\n",
            "Epoch 32/150\n",
            "14/14 [==============================] - 1s 76ms/step - loss: 0.3512 - accuracy: 0.8443 - val_loss: 0.3479 - val_accuracy: 0.8474\n",
            "Epoch 33/150\n",
            "14/14 [==============================] - 1s 67ms/step - loss: 0.3388 - accuracy: 0.8497 - val_loss: 0.3416 - val_accuracy: 0.8519\n",
            "Epoch 34/150\n",
            "14/14 [==============================] - 1s 61ms/step - loss: 0.3329 - accuracy: 0.8481 - val_loss: 0.3766 - val_accuracy: 0.8428\n",
            "Epoch 35/150\n",
            "14/14 [==============================] - 1s 62ms/step - loss: 0.3139 - accuracy: 0.8595 - val_loss: 0.3377 - val_accuracy: 0.8588\n",
            "Epoch 36/150\n",
            "14/14 [==============================] - 1s 59ms/step - loss: 0.3208 - accuracy: 0.8603 - val_loss: 0.3680 - val_accuracy: 0.8360\n",
            "Epoch 37/150\n",
            "14/14 [==============================] - 1s 61ms/step - loss: 0.3143 - accuracy: 0.8610 - val_loss: 0.3310 - val_accuracy: 0.8497\n",
            "Epoch 38/150\n",
            "14/14 [==============================] - 1s 61ms/step - loss: 0.3141 - accuracy: 0.8580 - val_loss: 0.3303 - val_accuracy: 0.8633\n",
            "Epoch 39/150\n",
            "14/14 [==============================] - 1s 61ms/step - loss: 0.3026 - accuracy: 0.8679 - val_loss: 0.3378 - val_accuracy: 0.8633\n",
            "Epoch 40/150\n",
            "14/14 [==============================] - 1s 64ms/step - loss: 0.3109 - accuracy: 0.8633 - val_loss: 0.3882 - val_accuracy: 0.8337\n",
            "Epoch 41/150\n",
            "14/14 [==============================] - 1s 62ms/step - loss: 0.3089 - accuracy: 0.8610 - val_loss: 0.3353 - val_accuracy: 0.8474\n",
            "Epoch 42/150\n",
            "14/14 [==============================] - 1s 62ms/step - loss: 0.2965 - accuracy: 0.8633 - val_loss: 0.3291 - val_accuracy: 0.8633\n",
            "Epoch 43/150\n",
            "14/14 [==============================] - 1s 61ms/step - loss: 0.2942 - accuracy: 0.8664 - val_loss: 0.3091 - val_accuracy: 0.8747\n",
            "Epoch 44/150\n",
            "14/14 [==============================] - 1s 80ms/step - loss: 0.2885 - accuracy: 0.8724 - val_loss: 0.3253 - val_accuracy: 0.8679\n",
            "Epoch 45/150\n",
            "14/14 [==============================] - 1s 77ms/step - loss: 0.2842 - accuracy: 0.8755 - val_loss: 0.3488 - val_accuracy: 0.8497\n",
            "Epoch 46/150\n",
            "14/14 [==============================] - 1s 74ms/step - loss: 0.2813 - accuracy: 0.8815 - val_loss: 0.3268 - val_accuracy: 0.8565\n",
            "Epoch 47/150\n",
            "14/14 [==============================] - 1s 65ms/step - loss: 0.2650 - accuracy: 0.8846 - val_loss: 0.3032 - val_accuracy: 0.8747\n",
            "Epoch 48/150\n",
            "14/14 [==============================] - 1s 64ms/step - loss: 0.2691 - accuracy: 0.8831 - val_loss: 0.3459 - val_accuracy: 0.8656\n",
            "Epoch 49/150\n",
            "14/14 [==============================] - 1s 63ms/step - loss: 0.2813 - accuracy: 0.8709 - val_loss: 0.3424 - val_accuracy: 0.8451\n",
            "Epoch 50/150\n",
            "14/14 [==============================] - 1s 62ms/step - loss: 0.2786 - accuracy: 0.8770 - val_loss: 0.2995 - val_accuracy: 0.8793\n",
            "Epoch 51/150\n",
            "14/14 [==============================] - 1s 66ms/step - loss: 0.2568 - accuracy: 0.8846 - val_loss: 0.3718 - val_accuracy: 0.8565\n",
            "Epoch 52/150\n",
            "14/14 [==============================] - 1s 61ms/step - loss: 0.2847 - accuracy: 0.8709 - val_loss: 0.3401 - val_accuracy: 0.8588\n",
            "Epoch 53/150\n",
            "14/14 [==============================] - 1s 64ms/step - loss: 0.2587 - accuracy: 0.8891 - val_loss: 0.2934 - val_accuracy: 0.8747\n",
            "Epoch 54/150\n",
            "14/14 [==============================] - 1s 66ms/step - loss: 0.2451 - accuracy: 0.8876 - val_loss: 0.3424 - val_accuracy: 0.8588\n",
            "Epoch 55/150\n",
            "14/14 [==============================] - 1s 65ms/step - loss: 0.2257 - accuracy: 0.9051 - val_loss: 0.3013 - val_accuracy: 0.8747\n",
            "Epoch 56/150\n",
            "14/14 [==============================] - 1s 61ms/step - loss: 0.2381 - accuracy: 0.8967 - val_loss: 0.3196 - val_accuracy: 0.8633\n",
            "Epoch 57/150\n",
            "14/14 [==============================] - 1s 61ms/step - loss: 0.2462 - accuracy: 0.8990 - val_loss: 0.3195 - val_accuracy: 0.8770\n",
            "Epoch 58/150\n",
            "14/14 [==============================] - 1s 83ms/step - loss: 0.2357 - accuracy: 0.8945 - val_loss: 0.3036 - val_accuracy: 0.8793\n",
            "Epoch 59/150\n",
            "14/14 [==============================] - 1s 78ms/step - loss: 0.2255 - accuracy: 0.8998 - val_loss: 0.3063 - val_accuracy: 0.8519\n",
            "Epoch 60/150\n",
            "14/14 [==============================] - 1s 61ms/step - loss: 0.2446 - accuracy: 0.8990 - val_loss: 0.3066 - val_accuracy: 0.8702\n",
            "Epoch 61/150\n",
            "14/14 [==============================] - 1s 66ms/step - loss: 0.2208 - accuracy: 0.9089 - val_loss: 0.3148 - val_accuracy: 0.8633\n",
            "Epoch 62/150\n",
            "14/14 [==============================] - 1s 60ms/step - loss: 0.2361 - accuracy: 0.9021 - val_loss: 0.2874 - val_accuracy: 0.8793\n",
            "Epoch 63/150\n",
            "14/14 [==============================] - 1s 63ms/step - loss: 0.2178 - accuracy: 0.9051 - val_loss: 0.3133 - val_accuracy: 0.8907\n",
            "Epoch 64/150\n",
            "14/14 [==============================] - 1s 62ms/step - loss: 0.1913 - accuracy: 0.9226 - val_loss: 0.3233 - val_accuracy: 0.8884\n",
            "Epoch 65/150\n",
            "14/14 [==============================] - 1s 63ms/step - loss: 0.2065 - accuracy: 0.9081 - val_loss: 0.2949 - val_accuracy: 0.8724\n",
            "Epoch 66/150\n",
            "14/14 [==============================] - 1s 61ms/step - loss: 0.2027 - accuracy: 0.9074 - val_loss: 0.3178 - val_accuracy: 0.8861\n",
            "Epoch 67/150\n",
            "14/14 [==============================] - 1s 62ms/step - loss: 0.1991 - accuracy: 0.9134 - val_loss: 0.3204 - val_accuracy: 0.8747\n",
            "Epoch 68/150\n",
            "14/14 [==============================] - 1s 57ms/step - loss: 0.1923 - accuracy: 0.9210 - val_loss: 0.2878 - val_accuracy: 0.8793\n",
            "Epoch 69/150\n",
            "14/14 [==============================] - 1s 57ms/step - loss: 0.2099 - accuracy: 0.9104 - val_loss: 0.4298 - val_accuracy: 0.8542\n",
            "Epoch 70/150\n",
            "14/14 [==============================] - 1s 63ms/step - loss: 0.2468 - accuracy: 0.8922 - val_loss: 0.3922 - val_accuracy: 0.8565\n",
            "Epoch 71/150\n",
            "14/14 [==============================] - 1s 72ms/step - loss: 0.2050 - accuracy: 0.9150 - val_loss: 0.3425 - val_accuracy: 0.8724\n",
            "Epoch 72/150\n",
            "14/14 [==============================] - 1s 79ms/step - loss: 0.1890 - accuracy: 0.9210 - val_loss: 0.3850 - val_accuracy: 0.8588\n",
            "Epoch 73/150\n",
            "14/14 [==============================] - 1s 80ms/step - loss: 0.2034 - accuracy: 0.9195 - val_loss: 0.4962 - val_accuracy: 0.8360\n",
            "Epoch 74/150\n",
            "14/14 [==============================] - 1s 62ms/step - loss: 0.2294 - accuracy: 0.9051 - val_loss: 0.3594 - val_accuracy: 0.8793\n",
            "Epoch 75/150\n",
            "14/14 [==============================] - 1s 67ms/step - loss: 0.2031 - accuracy: 0.9248 - val_loss: 0.3934 - val_accuracy: 0.8519\n",
            "Epoch 76/150\n",
            "14/14 [==============================] - 1s 65ms/step - loss: 0.1694 - accuracy: 0.9370 - val_loss: 0.3656 - val_accuracy: 0.8724\n",
            "Epoch 77/150\n",
            "14/14 [==============================] - 1s 64ms/step - loss: 0.1787 - accuracy: 0.9271 - val_loss: 0.3014 - val_accuracy: 0.8770\n"
          ]
        }
      ],
      "source": [
        "callbacks = [EarlyStopping(monitor='val_loss', patience=15)]\n",
        "            #  ModelCheckpoint(filepath='best_model.h5', monitor='val_loss', save_best_only=True)\n",
        "\n",
        "history = model.fit(X_train, \n",
        "                    y_train, \n",
        "                    epochs=150, \n",
        "                    batch_size=100,\n",
        "                    callbacks=callbacks,\n",
        "                    validation_data=(X_val, y_val))"
      ]
    },
    {
      "cell_type": "code",
      "source": [
        "!rm -rf saved_model"
      ],
      "metadata": {
        "id": "Prtu5s2JuNUX"
      },
      "execution_count": null,
      "outputs": []
    },
    {
      "cell_type": "code",
      "source": [
        "# model = tf.keras.models.load_model('saved_model/my_model')"
      ],
      "metadata": {
        "id": "G57M95KhazTl"
      },
      "execution_count": null,
      "outputs": []
    },
    {
      "cell_type": "markdown",
      "source": [
        "## Avaliação do modelo"
      ],
      "metadata": {
        "id": "khtAx6K0sb68"
      }
    },
    {
      "cell_type": "code",
      "execution_count": null,
      "metadata": {
        "id": "Vu8Re4Mj9GeW",
        "colab": {
          "base_uri": "https://localhost:8080/",
          "height": 939
        },
        "outputId": "c0c0b396-eb89-49b8-c405-38c017f762e7"
      },
      "outputs": [
        {
          "output_type": "stream",
          "name": "stdout",
          "text": [
            "14/14 [==============================] - 0s 22ms/step - loss: 0.3014 - accuracy: 0.8770\n",
            "    Test Loss: 0.30143\n",
            "Test Accuracy: 87.70%\n"
          ]
        },
        {
          "output_type": "display_data",
          "data": {
            "text/plain": [
              "<Figure size 640x480 with 1 Axes>"
            ],
            "image/png": "[encoded data removed]"
          },
          "metadata": {}
        },
        {
          "output_type": "display_data",
          "data": {
            "text/plain": [
              "<Figure size 640x480 with 1 Axes>"
            ],
            "image/png": "[encoded data removed]"
          },
          "metadata": {}
        }
      ],
      "source": [
        "results = model.evaluate(X_val, y_val)\n",
        "\n",
        "print(\"    Test Loss: {:.5f}\".format(results[0]))\n",
        "print(\"Test Accuracy: {:.2f}%\".format(results[1] * 100))\n",
        "\n",
        "accuracy = history.history['accuracy']\n",
        "val_accuracy = history.history['val_accuracy']\n",
        "\n",
        "loss = history.history['loss']\n",
        "val_loss = history.history['val_loss']\n",
        "\n",
        "epochs = range(len(accuracy))\n",
        "plt.plot(epochs, accuracy, 'b', label='Training accuracy')\n",
        "plt.plot(epochs, val_accuracy, 'r', label='Validation accuracy')\n",
        "\n",
        "plt.title('Training and validation accuracy')\n",
        "plt.legend()\n",
        "plt.figure()\n",
        "plt.plot(epochs, loss, 'b', label='Training loss')\n",
        "plt.plot(epochs, val_loss, 'r', label='Validation loss')\n",
        "\n",
        "plt.title('Training and validation loss')\n",
        "plt.legend()\n",
        "plt.show()"
      ]
    },
    {
      "cell_type": "markdown",
      "source": [
        "## Salvamento do modelo"
      ],
      "metadata": {
        "id": "OToxWMD0seS_"
      }
    },
    {
      "cell_type": "code",
      "execution_count": null,
      "metadata": {
        "colab": {
          "base_uri": "https://localhost:8080/"
        },
        "id": "m0nfpLqe35O_",
        "outputId": "05203b6f-24e2-4b0d-af97-95290eb385eb"
      },
      "outputs": [
        {
          "output_type": "stream",
          "name": "stderr",
          "text": [
            "WARNING:absl:Found untraced functions such as _jit_compiled_convolution_op, _jit_compiled_convolution_op, _jit_compiled_convolution_op, _update_step_xla while saving (showing 4 of 4). These functions will not be directly callable after loading.\n"
          ]
        },
        {
          "output_type": "stream",
          "name": "stdout",
          "text": [
            "  adding: saved_model/ (stored 0%)\n",
            "  adding: saved_model/my_model/ (stored 0%)\n",
            "  adding: saved_model/my_model/saved_model.pb (deflated 90%)\n",
            "  adding: saved_model/my_model/fingerprint.pb (stored 0%)\n",
            "  adding: saved_model/my_model/assets/ (stored 0%)\n",
            "  adding: saved_model/my_model/keras_metadata.pb (deflated 91%)\n",
            "  adding: saved_model/my_model/variables/ (stored 0%)\n",
            "  adding: saved_model/my_model/variables/variables.data-00000-of-00001 (deflated 6%)\n",
            "  adding: saved_model/my_model/variables/variables.index (deflated 62%)\n"
          ]
        }
      ],
      "source": [
        "model.save('saved_model.h5')\n",
        "\n",
        "!mkdir -p saved_model\n",
        "model.save('saved_model/my_model')\n",
        "\n",
        "!zip -r model.zip saved_model"
      ]
    },
    {
      "cell_type": "markdown",
      "source": [
        "## Predição com dados novos"
      ],
      "metadata": {
        "id": "aILNvrhyshw5"
      }
    },
    {
      "cell_type": "code",
      "source": [
        "# evaluating with new data\n",
        "\n",
        "# y_t = model.predict(X)\n",
        "# quant = X.shape[0]\n",
        "# correct_predictions = 0\n",
        "\n",
        "# correct = 0\n",
        "\n",
        "# for i in range(quant):\n",
        "#   predicted_label = 0 if y_t[i] <= 0.5 else 1\n",
        "#   true_label = y[i]\n",
        "\n",
        "#   if true_label == predicted_label:\n",
        "#     correct += 1\n",
        "\n",
        "# # Compute accuracy\n",
        "# accuracy = correct / quant\n",
        "# print(\"Accuracy: {:.2f}%\".format(accuracy * 100))"
      ],
      "metadata": {
        "id": "yLYX-OIYaVCe"
      },
      "execution_count": null,
      "outputs": []
    },
    {
      "cell_type": "code",
      "source": [
        "# y_t = model.predict(X)\n",
        "# y_t"
      ],
      "metadata": {
        "id": "T90g4ZO7cUZf"
      },
      "execution_count": null,
      "outputs": []
    },
    {
      "cell_type": "code",
      "execution_count": null,
      "metadata": {
        "id": "MRByKWFFrDB7",
        "colab": {
          "base_uri": "https://localhost:8080/"
        },
        "outputId": "48ff527e-4815-40f1-9333-a05a83eebc0e"
      },
      "outputs": [
        {
          "output_type": "stream",
          "name": "stdout",
          "text": [
            "Archive:  model_70.zip\n",
            "   creating: saved_model/\n",
            "   creating: saved_model/my_model/\n",
            " extracting: saved_model/my_model/fingerprint.pb  \n",
            "  inflating: saved_model/my_model/keras_metadata.pb  \n",
            "   creating: saved_model/my_model/assets/\n",
            "  inflating: saved_model/my_model/saved_model.pb  \n",
            "   creating: saved_model/my_model/variables/\n",
            "  inflating: saved_model/my_model/variables/variables.data-00000-of-00001  \n",
            "  inflating: saved_model/my_model/variables/variables.index  \n"
          ]
        }
      ],
      "source": [
        "# loading the trained model\n",
        "\n",
        "!unzip model_70.zip"
      ]
    },
    {
      "cell_type": "markdown",
      "source": [
        "## Otimização do modelo"
      ],
      "metadata": {
        "id": "eaW1-ePLswNH"
      }
    },
    {
      "cell_type": "code",
      "execution_count": null,
      "metadata": {
        "id": "Q2BE7EpK9byF"
      },
      "outputs": [],
      "source": [
        "def representative_dataset():\n",
        "    for _ in range(100):\n",
        "      data = np.random.randint(low=0, high=256, size=(1, 112, 112, 1))\n",
        "      yield [data.astype(np.float32)]"
      ]
    },
    {
      "cell_type": "code",
      "execution_count": null,
      "metadata": {
        "id": "rg9lrUrFomfm"
      },
      "outputs": [],
      "source": [
        "saved_model_dir = 'saved_model/my_model'\n",
        "converter = tf.lite.TFLiteConverter.from_saved_model(saved_model_dir)\n",
        "converter.optimizations = [tf.lite.Optimize.DEFAULT]\n",
        "converter.representative_dataset = representative_dataset\n",
        "converter.target_spec.supported_ops = [tf.lite.OpsSet.TFLITE_BUILTINS_INT8]\n",
        "converter.inference_input_type = tf.int8  # or tf.uint8\n",
        "converter.inference_output_type = tf.int8  # or tf.uint8\n",
        "tflite_quant_model = converter.convert()\n",
        "\n",
        "# Save the model.\n",
        "with open('model_quantized.tflite', 'wb') as f:\n",
        "  f.write(tflite_quant_model)"
      ]
    },
    {
      "cell_type": "code",
      "execution_count": null,
      "metadata": {
        "id": "VWwmrnMCuM6d"
      },
      "outputs": [],
      "source": [
        "!xxd -i model_quantized.tflite > model_data.cc"
      ]
    },
    {
      "cell_type": "code",
      "execution_count": null,
      "metadata": {
        "colab": {
          "base_uri": "https://localhost:8080/"
        },
        "id": "whuOQtBR9kET",
        "outputId": "ad64d4ac-bc85-4acb-c1cf-8a43d91374c4"
      },
      "outputs": [
        {
          "output_type": "stream",
          "name": "stdout",
          "text": [
            "-rw-r--r-- 1 root root 417K May 23 17:49 model_data.cc\n",
            "-rw-r--r-- 1 root root  68K May 23 17:49 model_quantized.tflite\n",
            "-rw-r--r-- 1 root root 692K May 23 17:49 model.zip\n",
            "drwxr-xr-x 3 root root 4.0K May 23 17:49 saved_model\n",
            "-rw-r--r-- 1 root root 751K May 23 17:49 saved_model.h5\n"
          ]
        }
      ],
      "source": [
        "!ls -lh | grep model"
      ]
    },
    {
      "cell_type": "markdown",
      "source": [
        "## Avaliação do modelo otimizado"
      ],
      "metadata": {
        "id": "3TqIn8Zbs0bc"
      }
    },
    {
      "cell_type": "code",
      "source": [
        "# !rm -rf saved_model"
      ],
      "metadata": {
        "id": "GzKB_aZbaTXg"
      },
      "execution_count": null,
      "outputs": []
    },
    {
      "cell_type": "code",
      "execution_count": null,
      "metadata": {
        "id": "xgbXOGNC_JY-",
        "colab": {
          "base_uri": "https://localhost:8080/"
        },
        "outputId": "2f243acf-ff8e-474b-b8cb-028c73b12c86"
      },
      "outputs": [
        {
          "output_type": "stream",
          "name": "stdout",
          "text": [
            "Accuracy: 0.00%\n"
          ]
        }
      ],
      "source": [
        "img = 0\n",
        "\n",
        "# Load the TFLite model\n",
        "model_path = 'model_quantized.tflite'\n",
        "interpreter = tf.lite.Interpreter(model_path=model_path)\n",
        "interpreter.allocate_tensors()\n",
        "\n",
        "# Get the input and output details\n",
        "input_details = interpreter.get_input_details()\n",
        "output_details = interpreter.get_output_details()\n",
        "\n",
        "# Load your test dataset\n",
        "test_data = (X * 127).astype(np.int8)\n",
        "test_labels = y\n",
        "\n",
        "# Prepare variables for evaluation\n",
        "total_samples = test_data.shape[0]\n",
        "correct_predictions = 0\n",
        "\n",
        "# Run inference on each test sample and compute accuracy\n",
        "for i in range(total_samples):\n",
        "    # Get input sample\n",
        "    input_data = np.reshape(test_data[i], (1, 112, 112, 1))\n",
        "\n",
        "    # Set input tensor\n",
        "    interpreter.set_tensor(input_details[0]['index'], input_data)\n",
        "\n",
        "    # Run inference\n",
        "    interpreter.invoke()\n",
        "\n",
        "    # Get output\n",
        "    output_data = interpreter.get_tensor(output_details[0]['index'])\n",
        "    \n",
        "    output_scale, output_zero_point = output_details[0]['quantization']\n",
        "    output = (output_data.astype(float) - output_zero_point) * output_scale\n",
        "    # Compare the predicted label with the ground truth\n",
        "    predicted_label = 0 if output < 0.3 else 1\n",
        "\n",
        "    if predicted_label == 1:\n",
        "      img = input_data\n",
        "      break\n",
        "    \n",
        "    true_label = test_labels[i]\n",
        "    if true_label == predicted_label:\n",
        "        correct_predictions += 1\n",
        "\n",
        "# Compute accuracy\n",
        "accuracy = correct_predictions / total_samples\n",
        "print(\"Accuracy: {:.2f}%\".format(accuracy * 100))"
      ]
    },
    {
      "cell_type": "code",
      "source": [
        "img_arr = np.squeeze(img)\n",
        "# Convert the array to a grayscale image\n",
        "image = Image.fromarray(img_arr.astype(np.uint8))\n",
        "\n",
        "# Get the non-zero region of the image\n",
        "bbox = image.getbbox()\n",
        "\n",
        "# Crop the image to remove borders\n",
        "image = image.crop(bbox)\n",
        "\n",
        "# Save the grayscale image\n",
        "image.save('grayscale_image.png')"
      ],
      "metadata": {
        "id": "ks2AOVkaaNrC"
      },
      "execution_count": null,
      "outputs": []
    },
    {
      "cell_type": "code",
      "source": [
        "import base64\n",
        "\n",
        "# Read the PNG image file\n",
        "with open('grayscale_image.png', 'rb') as file:\n",
        "    image_data = file.read()\n",
        "\n",
        "# Encode the image data as base64\n",
        "base64_data = base64.b64encode(image_data)\n",
        "\n",
        "# Convert the base64 data to a C/C++ array\n",
        "c_array = ', '.join(map(str, base64_data))\n",
        "\n",
        "# Create the .h file and write the C/C++ array\n",
        "with open('image.h', 'w') as file:\n",
        "    file.write('unsigned char image[] = {' + c_array + '};\\n')\n",
        "    file.write('unsigned int image_size = ' + str(len(base64_data)) + ';\\n')"
      ],
      "metadata": {
        "id": "0OyE_IXJa80M"
      },
      "execution_count": null,
      "outputs": []
    },
    {
      "cell_type": "markdown",
      "source": [
        "## Representação gráfica do modelo"
      ],
      "metadata": {
        "id": "vFBxN9u3s4dV"
      }
    },
    {
      "cell_type": "code",
      "execution_count": null,
      "metadata": {
        "colab": {
          "base_uri": "https://localhost:8080/",
          "height": 1000
        },
        "id": "qxYXwS5QxoLw",
        "outputId": "7db6af35-1e8b-4ee1-d39a-b454359609ff"
      },
      "outputs": [
        {
          "output_type": "execute_result",
          "data": {
            "image/png": "[encoded data removed]",
            "text/plain": [
              "<IPython.core.display.Image object>"
            ]
          },
          "metadata": {},
          "execution_count": 28
        }
      ],
      "source": [
        "from tensorflow.keras.utils import plot_model\n",
        "plot_model(model, show_shapes=True,\n",
        "    show_dtype=False,\n",
        "    show_layer_names=False,\n",
        "    rankdir=\"TB\",\n",
        "    expand_nested=False,\n",
        "    dpi=96,\n",
        "    layer_range=None,\n",
        "    show_layer_activations=False,\n",
        "    show_trainable=False)"
      ]
    }
  ],
  "metadata": {
    "accelerator": "GPU",
    "colab": {
      "provenance": [],
      "gpuType": "T4"
    },
    "gpuClass": "standard",
    "kernelspec": {
      "display_name": "Python 3",
      "name": "python3"
    },
    "language_info": {
      "name": "python"
    }
  },
  "nbformat": 4,
  "nbformat_minor": 0
}